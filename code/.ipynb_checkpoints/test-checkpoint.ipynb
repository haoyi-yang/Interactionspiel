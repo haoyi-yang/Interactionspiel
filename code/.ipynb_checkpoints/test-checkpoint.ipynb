{
 "cells": [
  {
   "cell_type": "code",
   "execution_count": 1,
   "metadata": {
    "ExecuteTime": {
     "end_time": "2018-06-09T15:58:53.913389Z",
     "start_time": "2018-06-09T15:58:53.882349Z"
    }
   },
   "outputs": [
    {
     "name": "stdout",
     "output_type": "stream",
     "text": [
      "Started the round 1\n",
      "Street \"preflop\" started. (community card = [])\n",
      "\"p2\" declared \"raise:30\"\n"
     ]
    },
    {
     "ename": "KeyboardInterrupt",
     "evalue": "",
     "output_type": "error",
     "traceback": [
      "\u001b[0;31m---------------------------------------------------------------------------\u001b[0m",
      "\u001b[0;31mKeyboardInterrupt\u001b[0m                         Traceback (most recent call last)",
      "\u001b[0;32m<ipython-input-1-a1e4b4449592>\u001b[0m in \u001b[0;36m<module>\u001b[0;34m()\u001b[0m\n\u001b[1;32m      7\u001b[0m \u001b[0;31m# config.register_player(name=\"p1\", algorithm=InteractivePlayer())\u001b[0m\u001b[0;34m\u001b[0m\u001b[0;34m\u001b[0m\u001b[0m\n\u001b[1;32m      8\u001b[0m \u001b[0mconfig\u001b[0m\u001b[0;34m.\u001b[0m\u001b[0mregister_player\u001b[0m\u001b[0;34m(\u001b[0m\u001b[0mname\u001b[0m\u001b[0;34m=\u001b[0m\u001b[0;34m\"p2\"\u001b[0m\u001b[0;34m,\u001b[0m \u001b[0malgorithm\u001b[0m\u001b[0;34m=\u001b[0m\u001b[0mRationalPlayer\u001b[0m\u001b[0;34m(\u001b[0m\u001b[0;34m'RP_with_limit'\u001b[0m\u001b[0;34m)\u001b[0m\u001b[0;34m)\u001b[0m\u001b[0;34m\u001b[0m\u001b[0m\n\u001b[0;32m----> 9\u001b[0;31m \u001b[0mgame_result\u001b[0m \u001b[0;34m=\u001b[0m \u001b[0mstart_poker\u001b[0m\u001b[0;34m(\u001b[0m\u001b[0mconfig\u001b[0m\u001b[0;34m,\u001b[0m \u001b[0mverbose\u001b[0m\u001b[0;34m=\u001b[0m\u001b[0;36m1\u001b[0m\u001b[0;34m)\u001b[0m\u001b[0;34m\u001b[0m\u001b[0m\n\u001b[0m",
      "\u001b[0;32m~/miniconda2/envs/python3/lib/python3.6/site-packages/pypokerengine/api/game.py\u001b[0m in \u001b[0;36mstart_poker\u001b[0;34m(config, verbose)\u001b[0m\n\u001b[1;32m     12\u001b[0m     \u001b[0;32mfor\u001b[0m \u001b[0minfo\u001b[0m \u001b[0;32min\u001b[0m \u001b[0mconfig\u001b[0m\u001b[0;34m.\u001b[0m\u001b[0mplayers_info\u001b[0m\u001b[0;34m:\u001b[0m\u001b[0;34m\u001b[0m\u001b[0m\n\u001b[1;32m     13\u001b[0m         \u001b[0mdealer\u001b[0m\u001b[0;34m.\u001b[0m\u001b[0mregister_player\u001b[0m\u001b[0;34m(\u001b[0m\u001b[0minfo\u001b[0m\u001b[0;34m[\u001b[0m\u001b[0;34m\"name\"\u001b[0m\u001b[0;34m]\u001b[0m\u001b[0;34m,\u001b[0m \u001b[0minfo\u001b[0m\u001b[0;34m[\u001b[0m\u001b[0;34m\"algorithm\"\u001b[0m\u001b[0;34m]\u001b[0m\u001b[0;34m)\u001b[0m\u001b[0;34m\u001b[0m\u001b[0m\n\u001b[0;32m---> 14\u001b[0;31m     \u001b[0mresult_message\u001b[0m \u001b[0;34m=\u001b[0m \u001b[0mdealer\u001b[0m\u001b[0;34m.\u001b[0m\u001b[0mstart_game\u001b[0m\u001b[0;34m(\u001b[0m\u001b[0mconfig\u001b[0m\u001b[0;34m.\u001b[0m\u001b[0mmax_round\u001b[0m\u001b[0;34m)\u001b[0m\u001b[0;34m\u001b[0m\u001b[0m\n\u001b[0m\u001b[1;32m     15\u001b[0m     \u001b[0;32mreturn\u001b[0m \u001b[0m_format_result\u001b[0m\u001b[0;34m(\u001b[0m\u001b[0mresult_message\u001b[0m\u001b[0;34m)\u001b[0m\u001b[0;34m\u001b[0m\u001b[0m\n\u001b[1;32m     16\u001b[0m \u001b[0;34m\u001b[0m\u001b[0m\n",
      "\u001b[0;32m~/miniconda2/envs/python3/lib/python3.6/site-packages/pypokerengine/engine/dealer.py\u001b[0m in \u001b[0;36mstart_game\u001b[0;34m(self, max_round)\u001b[0m\n\u001b[1;32m     37\u001b[0m       \u001b[0mtable\u001b[0m \u001b[0;34m=\u001b[0m \u001b[0mself\u001b[0m\u001b[0;34m.\u001b[0m\u001b[0m__exclude_short_of_money_players\u001b[0m\u001b[0;34m(\u001b[0m\u001b[0mtable\u001b[0m\u001b[0;34m,\u001b[0m \u001b[0mante\u001b[0m\u001b[0;34m,\u001b[0m \u001b[0msb_amount\u001b[0m\u001b[0;34m)\u001b[0m\u001b[0;34m\u001b[0m\u001b[0m\n\u001b[1;32m     38\u001b[0m       \u001b[0;32mif\u001b[0m \u001b[0mself\u001b[0m\u001b[0;34m.\u001b[0m\u001b[0m__is_game_finished\u001b[0m\u001b[0;34m(\u001b[0m\u001b[0mtable\u001b[0m\u001b[0;34m)\u001b[0m\u001b[0;34m:\u001b[0m \u001b[0;32mbreak\u001b[0m\u001b[0;34m\u001b[0m\u001b[0m\n\u001b[0;32m---> 39\u001b[0;31m       \u001b[0mtable\u001b[0m \u001b[0;34m=\u001b[0m \u001b[0mself\u001b[0m\u001b[0;34m.\u001b[0m\u001b[0mplay_round\u001b[0m\u001b[0;34m(\u001b[0m\u001b[0mround_count\u001b[0m\u001b[0;34m,\u001b[0m \u001b[0msb_amount\u001b[0m\u001b[0;34m,\u001b[0m \u001b[0mante\u001b[0m\u001b[0;34m,\u001b[0m \u001b[0mtable\u001b[0m\u001b[0;34m)\u001b[0m\u001b[0;34m\u001b[0m\u001b[0m\n\u001b[0m\u001b[1;32m     40\u001b[0m       \u001b[0mtable\u001b[0m\u001b[0;34m.\u001b[0m\u001b[0mshift_dealer_btn\u001b[0m\u001b[0;34m(\u001b[0m\u001b[0;34m)\u001b[0m\u001b[0;34m\u001b[0m\u001b[0m\n\u001b[1;32m     41\u001b[0m     \u001b[0;32mreturn\u001b[0m \u001b[0mself\u001b[0m\u001b[0;34m.\u001b[0m\u001b[0m__generate_game_result\u001b[0m\u001b[0;34m(\u001b[0m\u001b[0mmax_round\u001b[0m\u001b[0;34m,\u001b[0m \u001b[0mtable\u001b[0m\u001b[0;34m.\u001b[0m\u001b[0mseats\u001b[0m\u001b[0;34m)\u001b[0m\u001b[0;34m\u001b[0m\u001b[0m\n",
      "\u001b[0;32m~/miniconda2/envs/python3/lib/python3.6/site-packages/pypokerengine/engine/dealer.py\u001b[0m in \u001b[0;36mplay_round\u001b[0;34m(self, round_count, blind_amount, ante, table)\u001b[0m\n\u001b[1;32m     46\u001b[0m       \u001b[0mself\u001b[0m\u001b[0;34m.\u001b[0m\u001b[0m__message_check\u001b[0m\u001b[0;34m(\u001b[0m\u001b[0mmsgs\u001b[0m\u001b[0;34m,\u001b[0m \u001b[0mstate\u001b[0m\u001b[0;34m[\u001b[0m\u001b[0;34m\"street\"\u001b[0m\u001b[0;34m]\u001b[0m\u001b[0;34m)\u001b[0m\u001b[0;34m\u001b[0m\u001b[0m\n\u001b[1;32m     47\u001b[0m       \u001b[0;32mif\u001b[0m \u001b[0mstate\u001b[0m\u001b[0;34m[\u001b[0m\u001b[0;34m\"street\"\u001b[0m\u001b[0;34m]\u001b[0m \u001b[0;34m!=\u001b[0m \u001b[0mConst\u001b[0m\u001b[0;34m.\u001b[0m\u001b[0mStreet\u001b[0m\u001b[0;34m.\u001b[0m\u001b[0mFINISHED\u001b[0m\u001b[0;34m:\u001b[0m  \u001b[0;31m# continue the round\u001b[0m\u001b[0;34m\u001b[0m\u001b[0m\n\u001b[0;32m---> 48\u001b[0;31m         \u001b[0maction\u001b[0m\u001b[0;34m,\u001b[0m \u001b[0mbet_amount\u001b[0m \u001b[0;34m=\u001b[0m \u001b[0mself\u001b[0m\u001b[0;34m.\u001b[0m\u001b[0m__publish_messages\u001b[0m\u001b[0;34m(\u001b[0m\u001b[0mmsgs\u001b[0m\u001b[0;34m)\u001b[0m\u001b[0;34m\u001b[0m\u001b[0m\n\u001b[0m\u001b[1;32m     49\u001b[0m         \u001b[0mstate\u001b[0m\u001b[0;34m,\u001b[0m \u001b[0mmsgs\u001b[0m \u001b[0;34m=\u001b[0m \u001b[0mRoundManager\u001b[0m\u001b[0;34m.\u001b[0m\u001b[0mapply_action\u001b[0m\u001b[0;34m(\u001b[0m\u001b[0mstate\u001b[0m\u001b[0;34m,\u001b[0m \u001b[0maction\u001b[0m\u001b[0;34m,\u001b[0m \u001b[0mbet_amount\u001b[0m\u001b[0;34m)\u001b[0m\u001b[0;34m\u001b[0m\u001b[0m\n\u001b[1;32m     50\u001b[0m       \u001b[0;32melse\u001b[0m\u001b[0;34m:\u001b[0m  \u001b[0;31m# finish the round after publish round result\u001b[0m\u001b[0;34m\u001b[0m\u001b[0m\n",
      "\u001b[0;32m~/miniconda2/envs/python3/lib/python3.6/site-packages/pypokerengine/engine/dealer.py\u001b[0m in \u001b[0;36m__publish_messages\u001b[0;34m(self, msgs)\u001b[0m\n\u001b[1;32m    101\u001b[0m       \u001b[0mself\u001b[0m\u001b[0;34m.\u001b[0m\u001b[0mmessage_handler\u001b[0m\u001b[0;34m.\u001b[0m\u001b[0mprocess_message\u001b[0m\u001b[0;34m(\u001b[0m\u001b[0maddress\u001b[0m\u001b[0;34m,\u001b[0m \u001b[0mmsg\u001b[0m\u001b[0;34m)\u001b[0m\u001b[0;34m\u001b[0m\u001b[0m\n\u001b[1;32m    102\u001b[0m     \u001b[0mself\u001b[0m\u001b[0;34m.\u001b[0m\u001b[0mmessage_summarizer\u001b[0m\u001b[0;34m.\u001b[0m\u001b[0msummarize_messages\u001b[0m\u001b[0;34m(\u001b[0m\u001b[0mmsgs\u001b[0m\u001b[0;34m)\u001b[0m\u001b[0;34m\u001b[0m\u001b[0m\n\u001b[0;32m--> 103\u001b[0;31m     \u001b[0;32mreturn\u001b[0m \u001b[0mself\u001b[0m\u001b[0;34m.\u001b[0m\u001b[0mmessage_handler\u001b[0m\u001b[0;34m.\u001b[0m\u001b[0mprocess_message\u001b[0m\u001b[0;34m(\u001b[0m\u001b[0;34m*\u001b[0m\u001b[0mmsgs\u001b[0m\u001b[0;34m[\u001b[0m\u001b[0;34m-\u001b[0m\u001b[0;36m1\u001b[0m\u001b[0;34m]\u001b[0m\u001b[0;34m)\u001b[0m\u001b[0;34m\u001b[0m\u001b[0m\n\u001b[0m\u001b[1;32m    104\u001b[0m \u001b[0;34m\u001b[0m\u001b[0m\n\u001b[1;32m    105\u001b[0m   \u001b[0;32mdef\u001b[0m \u001b[0m__exclude_short_of_money_players\u001b[0m\u001b[0;34m(\u001b[0m\u001b[0mself\u001b[0m\u001b[0;34m,\u001b[0m \u001b[0mtable\u001b[0m\u001b[0;34m,\u001b[0m \u001b[0mante\u001b[0m\u001b[0;34m,\u001b[0m \u001b[0msb_amount\u001b[0m\u001b[0;34m)\u001b[0m\u001b[0;34m:\u001b[0m\u001b[0;34m\u001b[0m\u001b[0m\n",
      "\u001b[0;32m~/miniconda2/envs/python3/lib/python3.6/site-packages/pypokerengine/engine/dealer.py\u001b[0m in \u001b[0;36mprocess_message\u001b[0;34m(self, address, msg)\u001b[0m\n\u001b[1;32m    189\u001b[0m     \u001b[0;32mfor\u001b[0m \u001b[0mreceiver\u001b[0m \u001b[0;32min\u001b[0m \u001b[0mreceivers\u001b[0m\u001b[0;34m:\u001b[0m\u001b[0;34m\u001b[0m\u001b[0m\n\u001b[1;32m    190\u001b[0m       \u001b[0;32mif\u001b[0m \u001b[0mmsg\u001b[0m\u001b[0;34m[\u001b[0m\u001b[0;34m\"type\"\u001b[0m\u001b[0;34m]\u001b[0m \u001b[0;34m==\u001b[0m \u001b[0;34m'ask'\u001b[0m\u001b[0;34m:\u001b[0m\u001b[0;34m\u001b[0m\u001b[0m\n\u001b[0;32m--> 191\u001b[0;31m         \u001b[0;32mreturn\u001b[0m \u001b[0mreceiver\u001b[0m\u001b[0;34m.\u001b[0m\u001b[0mrespond_to_ask\u001b[0m\u001b[0;34m(\u001b[0m\u001b[0mmsg\u001b[0m\u001b[0;34m[\u001b[0m\u001b[0;34m\"message\"\u001b[0m\u001b[0;34m]\u001b[0m\u001b[0;34m)\u001b[0m\u001b[0;34m\u001b[0m\u001b[0m\n\u001b[0m\u001b[1;32m    192\u001b[0m       \u001b[0;32melif\u001b[0m \u001b[0mmsg\u001b[0m\u001b[0;34m[\u001b[0m\u001b[0;34m\"type\"\u001b[0m\u001b[0;34m]\u001b[0m \u001b[0;34m==\u001b[0m \u001b[0;34m'notification'\u001b[0m\u001b[0;34m:\u001b[0m\u001b[0;34m\u001b[0m\u001b[0m\n\u001b[1;32m    193\u001b[0m         \u001b[0mreceiver\u001b[0m\u001b[0;34m.\u001b[0m\u001b[0mreceive_notification\u001b[0m\u001b[0;34m(\u001b[0m\u001b[0mmsg\u001b[0m\u001b[0;34m[\u001b[0m\u001b[0;34m\"message\"\u001b[0m\u001b[0;34m]\u001b[0m\u001b[0;34m)\u001b[0m\u001b[0;34m\u001b[0m\u001b[0m\n",
      "\u001b[0;32m~/miniconda2/envs/python3/lib/python3.6/site-packages/pypokerengine/players.py\u001b[0m in \u001b[0;36mrespond_to_ask\u001b[0;34m(self, message)\u001b[0m\n\u001b[1;32m     46\u001b[0m     \u001b[0;34m\"\"\"Called from Dealer when ask message received from RoundManager\"\"\"\u001b[0m\u001b[0;34m\u001b[0m\u001b[0m\n\u001b[1;32m     47\u001b[0m     \u001b[0mvalid_actions\u001b[0m\u001b[0;34m,\u001b[0m \u001b[0mhole_card\u001b[0m\u001b[0;34m,\u001b[0m \u001b[0mround_state\u001b[0m \u001b[0;34m=\u001b[0m \u001b[0mself\u001b[0m\u001b[0;34m.\u001b[0m\u001b[0m__parse_ask_message\u001b[0m\u001b[0;34m(\u001b[0m\u001b[0mmessage\u001b[0m\u001b[0;34m)\u001b[0m\u001b[0;34m\u001b[0m\u001b[0m\n\u001b[0;32m---> 48\u001b[0;31m     \u001b[0;32mreturn\u001b[0m \u001b[0mself\u001b[0m\u001b[0;34m.\u001b[0m\u001b[0mdeclare_action\u001b[0m\u001b[0;34m(\u001b[0m\u001b[0mvalid_actions\u001b[0m\u001b[0;34m,\u001b[0m \u001b[0mhole_card\u001b[0m\u001b[0;34m,\u001b[0m \u001b[0mround_state\u001b[0m\u001b[0;34m)\u001b[0m\u001b[0;34m\u001b[0m\u001b[0m\n\u001b[0m\u001b[1;32m     49\u001b[0m \u001b[0;34m\u001b[0m\u001b[0m\n\u001b[1;32m     50\u001b[0m   \u001b[0;32mdef\u001b[0m \u001b[0mreceive_notification\u001b[0m\u001b[0;34m(\u001b[0m\u001b[0mself\u001b[0m\u001b[0;34m,\u001b[0m \u001b[0mmessage\u001b[0m\u001b[0;34m)\u001b[0m\u001b[0;34m:\u001b[0m\u001b[0;34m\u001b[0m\u001b[0m\n",
      "\u001b[0;32m~/backup/PS_Roboter/Interactionspiel/code/Model_Player.py\u001b[0m in \u001b[0;36mdeclare_action\u001b[0;34m(self, valid_actions, hole_card, round_state)\u001b[0m\n\u001b[1;32m     92\u001b[0m         \u001b[0;31m#     self.action = 2\u001b[0m\u001b[0;34m\u001b[0m\u001b[0;34m\u001b[0m\u001b[0m\n\u001b[1;32m     93\u001b[0m         \u001b[0;31m# self.record_action()\u001b[0m\u001b[0;34m\u001b[0m\u001b[0;34m\u001b[0m\u001b[0m\n\u001b[0;32m---> 94\u001b[0;31m         \u001b[0mwin_rate_with_model\u001b[0m \u001b[0;34m=\u001b[0m \u001b[0mself\u001b[0m\u001b[0;34m.\u001b[0m\u001b[0mestimate_win_rate_with_model_to_convergent\u001b[0m\u001b[0;34m(\u001b[0m\u001b[0mhole_card\u001b[0m\u001b[0;34m,\u001b[0m \u001b[0mround_state\u001b[0m\u001b[0;34m)\u001b[0m\u001b[0;34m\u001b[0m\u001b[0m\n\u001b[0m\u001b[1;32m     95\u001b[0m         \u001b[0mprint\u001b[0m\u001b[0;34m(\u001b[0m\u001b[0mwin_rate_with_model\u001b[0m\u001b[0;34m)\u001b[0m\u001b[0;34m\u001b[0m\u001b[0m\n\u001b[1;32m     96\u001b[0m         \u001b[0mev\u001b[0m \u001b[0;34m=\u001b[0m \u001b[0mself\u001b[0m\u001b[0;34m.\u001b[0m\u001b[0mev_calculation\u001b[0m\u001b[0;34m(\u001b[0m\u001b[0mwin_rate_with_model\u001b[0m\u001b[0;34m,\u001b[0m \u001b[0mpot\u001b[0m\u001b[0;34m,\u001b[0m \u001b[0mcall_amount\u001b[0m\u001b[0;34m)\u001b[0m\u001b[0;34m\u001b[0m\u001b[0m\n",
      "\u001b[0;32m~/backup/PS_Roboter/Interactionspiel/code/Model_Player.py\u001b[0m in \u001b[0;36mestimate_win_rate_with_model_to_convergent\u001b[0;34m(self, hole_card, round_state)\u001b[0m\n\u001b[1;32m    261\u001b[0m             newer_win_rate = self.calculate_win_rate_with_model_serval_time(round_state,                                       \n\u001b[1;32m    262\u001b[0m                                                 \u001b[0mhole_card\u001b[0m\u001b[0;34m,\u001b[0m\u001b[0;34m\u001b[0m\u001b[0m\n\u001b[0;32m--> 263\u001b[0;31m                                                 rpt_times)\n\u001b[0m\u001b[1;32m    264\u001b[0m             \u001b[0mls_win_rate\u001b[0m\u001b[0;34m.\u001b[0m\u001b[0mpop\u001b[0m\u001b[0;34m(\u001b[0m\u001b[0;36m0\u001b[0m\u001b[0;34m)\u001b[0m\u001b[0;34m\u001b[0m\u001b[0m\n\u001b[1;32m    265\u001b[0m             \u001b[0mitered_win_rate\u001b[0m \u001b[0;34m=\u001b[0m \u001b[0;34m(\u001b[0m\u001b[0mls_win_rate\u001b[0m\u001b[0;34m[\u001b[0m\u001b[0;34m-\u001b[0m\u001b[0;36m1\u001b[0m\u001b[0;34m]\u001b[0m \u001b[0;34m*\u001b[0m \u001b[0mcounter\u001b[0m \u001b[0;34m+\u001b[0m \u001b[0mnewer_win_rate\u001b[0m\u001b[0;34m)\u001b[0m \u001b[0;34m/\u001b[0m \u001b[0;34m(\u001b[0m\u001b[0mcounter\u001b[0m \u001b[0;34m+\u001b[0m \u001b[0;36m1\u001b[0m\u001b[0;34m)\u001b[0m\u001b[0;34m\u001b[0m\u001b[0m\n",
      "\u001b[0;32m~/backup/PS_Roboter/Interactionspiel/code/Model_Player.py\u001b[0m in \u001b[0;36mcalculate_win_rate_with_model_serval_time\u001b[0;34m(self, round_state, hole_card, nb_simulation)\u001b[0m\n\u001b[1;32m    251\u001b[0m \u001b[0;34m\u001b[0m\u001b[0m\n\u001b[1;32m    252\u001b[0m     \u001b[0;32mdef\u001b[0m \u001b[0mcalculate_win_rate_with_model_serval_time\u001b[0m\u001b[0;34m(\u001b[0m\u001b[0mself\u001b[0m\u001b[0;34m,\u001b[0m \u001b[0mround_state\u001b[0m\u001b[0;34m,\u001b[0m \u001b[0mhole_card\u001b[0m\u001b[0;34m,\u001b[0m \u001b[0mnb_simulation\u001b[0m\u001b[0;34m)\u001b[0m\u001b[0;34m:\u001b[0m\u001b[0;34m\u001b[0m\u001b[0m\n\u001b[0;32m--> 253\u001b[0;31m         \u001b[0mwin_count\u001b[0m \u001b[0;34m=\u001b[0m \u001b[0msum\u001b[0m\u001b[0;34m(\u001b[0m\u001b[0;34m[\u001b[0m\u001b[0mself\u001b[0m\u001b[0;34m.\u001b[0m\u001b[0msimulate_one_time\u001b[0m\u001b[0;34m(\u001b[0m\u001b[0mround_state\u001b[0m\u001b[0;34m,\u001b[0m \u001b[0mhole_card\u001b[0m\u001b[0;34m)\u001b[0m \u001b[0;32mfor\u001b[0m \u001b[0m_\u001b[0m \u001b[0;32min\u001b[0m \u001b[0mrange\u001b[0m\u001b[0;34m(\u001b[0m\u001b[0mnb_simulation\u001b[0m\u001b[0;34m)\u001b[0m\u001b[0;34m]\u001b[0m\u001b[0;34m)\u001b[0m\u001b[0;34m\u001b[0m\u001b[0m\n\u001b[0m\u001b[1;32m    254\u001b[0m         \u001b[0;32mreturn\u001b[0m \u001b[0;36m1.0\u001b[0m \u001b[0;34m*\u001b[0m \u001b[0mwin_count\u001b[0m \u001b[0;34m/\u001b[0m \u001b[0mnb_simulation\u001b[0m\u001b[0;34m\u001b[0m\u001b[0m\n\u001b[1;32m    255\u001b[0m \u001b[0;34m\u001b[0m\u001b[0m\n",
      "\u001b[0;32m~/backup/PS_Roboter/Interactionspiel/code/Model_Player.py\u001b[0m in \u001b[0;36m<listcomp>\u001b[0;34m(.0)\u001b[0m\n\u001b[1;32m    251\u001b[0m \u001b[0;34m\u001b[0m\u001b[0m\n\u001b[1;32m    252\u001b[0m     \u001b[0;32mdef\u001b[0m \u001b[0mcalculate_win_rate_with_model_serval_time\u001b[0m\u001b[0;34m(\u001b[0m\u001b[0mself\u001b[0m\u001b[0;34m,\u001b[0m \u001b[0mround_state\u001b[0m\u001b[0;34m,\u001b[0m \u001b[0mhole_card\u001b[0m\u001b[0;34m,\u001b[0m \u001b[0mnb_simulation\u001b[0m\u001b[0;34m)\u001b[0m\u001b[0;34m:\u001b[0m\u001b[0;34m\u001b[0m\u001b[0m\n\u001b[0;32m--> 253\u001b[0;31m         \u001b[0mwin_count\u001b[0m \u001b[0;34m=\u001b[0m \u001b[0msum\u001b[0m\u001b[0;34m(\u001b[0m\u001b[0;34m[\u001b[0m\u001b[0mself\u001b[0m\u001b[0;34m.\u001b[0m\u001b[0msimulate_one_time\u001b[0m\u001b[0;34m(\u001b[0m\u001b[0mround_state\u001b[0m\u001b[0;34m,\u001b[0m \u001b[0mhole_card\u001b[0m\u001b[0;34m)\u001b[0m \u001b[0;32mfor\u001b[0m \u001b[0m_\u001b[0m \u001b[0;32min\u001b[0m \u001b[0mrange\u001b[0m\u001b[0;34m(\u001b[0m\u001b[0mnb_simulation\u001b[0m\u001b[0;34m)\u001b[0m\u001b[0;34m]\u001b[0m\u001b[0;34m)\u001b[0m\u001b[0;34m\u001b[0m\u001b[0m\n\u001b[0m\u001b[1;32m    254\u001b[0m         \u001b[0;32mreturn\u001b[0m \u001b[0;36m1.0\u001b[0m \u001b[0;34m*\u001b[0m \u001b[0mwin_count\u001b[0m \u001b[0;34m/\u001b[0m \u001b[0mnb_simulation\u001b[0m\u001b[0;34m\u001b[0m\u001b[0m\n\u001b[1;32m    255\u001b[0m \u001b[0;34m\u001b[0m\u001b[0m\n",
      "\u001b[0;32m~/backup/PS_Roboter/Interactionspiel/code/Model_Player.py\u001b[0m in \u001b[0;36msimulate_one_time\u001b[0;34m(self, round_state, hole_card)\u001b[0m\n\u001b[1;32m    240\u001b[0m     \u001b[0;32mdef\u001b[0m \u001b[0msimulate_one_time\u001b[0m\u001b[0;34m(\u001b[0m\u001b[0mself\u001b[0m\u001b[0;34m,\u001b[0m \u001b[0mround_state\u001b[0m\u001b[0;34m,\u001b[0m \u001b[0mhole_card\u001b[0m\u001b[0;34m)\u001b[0m\u001b[0;34m:\u001b[0m\u001b[0;34m\u001b[0m\u001b[0m\n\u001b[1;32m    241\u001b[0m         \u001b[0mgame_state\u001b[0m \u001b[0;34m=\u001b[0m \u001b[0mself\u001b[0m\u001b[0;34m.\u001b[0m\u001b[0m_setup_game_state\u001b[0m\u001b[0;34m(\u001b[0m\u001b[0mround_state\u001b[0m\u001b[0;34m,\u001b[0m \u001b[0mhole_card\u001b[0m\u001b[0;34m)\u001b[0m\u001b[0;34m\u001b[0m\u001b[0m\n\u001b[0;32m--> 242\u001b[0;31m         \u001b[0m_round_finished_state\u001b[0m\u001b[0;34m,\u001b[0m \u001b[0m_events\u001b[0m \u001b[0;34m=\u001b[0m \u001b[0mself\u001b[0m\u001b[0;34m.\u001b[0m\u001b[0memulator\u001b[0m\u001b[0;34m.\u001b[0m\u001b[0mrun_until_round_finish\u001b[0m\u001b[0;34m(\u001b[0m\u001b[0mgame_state\u001b[0m\u001b[0;34m)\u001b[0m\u001b[0;34m\u001b[0m\u001b[0m\n\u001b[0m\u001b[1;32m    243\u001b[0m         \u001b[0;32mif\u001b[0m \u001b[0m_events\u001b[0m\u001b[0;34m[\u001b[0m\u001b[0;34m-\u001b[0m\u001b[0;36m1\u001b[0m\u001b[0;34m]\u001b[0m\u001b[0;34m[\u001b[0m\u001b[0;34m'type'\u001b[0m\u001b[0;34m]\u001b[0m \u001b[0;34m==\u001b[0m \u001b[0;34m'event_game_finish'\u001b[0m\u001b[0;34m:\u001b[0m\u001b[0;34m\u001b[0m\u001b[0m\n\u001b[1;32m    244\u001b[0m             \u001b[0;32mreturn\u001b[0m \u001b[0;36m0\u001b[0m \u001b[0;31m#if not 0, the last round will report a error\u001b[0m\u001b[0;34m\u001b[0m\u001b[0m\n",
      "\u001b[0;32m~/miniconda2/envs/python3/lib/python3.6/site-packages/pypokerengine/api/emulator.py\u001b[0m in \u001b[0;36mrun_until_round_finish\u001b[0;34m(self, game_state)\u001b[0m\n\u001b[1;32m     82\u001b[0m             \u001b[0mmsg\u001b[0m \u001b[0;34m=\u001b[0m \u001b[0mMessageBuilder\u001b[0m\u001b[0;34m.\u001b[0m\u001b[0mbuild_ask_message\u001b[0m\u001b[0;34m(\u001b[0m\u001b[0mnext_player_pos\u001b[0m\u001b[0;34m,\u001b[0m \u001b[0mgame_state\u001b[0m\u001b[0;34m)\u001b[0m\u001b[0;34m[\u001b[0m\u001b[0;34m\"message\"\u001b[0m\u001b[0;34m]\u001b[0m\u001b[0;34m\u001b[0m\u001b[0m\n\u001b[1;32m     83\u001b[0m             action, amount = next_player_algorithm.declare_action(\\\n\u001b[0;32m---> 84\u001b[0;31m                     msg[\"valid_actions\"], msg[\"hole_card\"], msg[\"round_state\"])\n\u001b[0m\u001b[1;32m     85\u001b[0m             \u001b[0mgame_state\u001b[0m\u001b[0;34m,\u001b[0m \u001b[0mmessages\u001b[0m \u001b[0;34m=\u001b[0m \u001b[0mRoundManager\u001b[0m\u001b[0;34m.\u001b[0m\u001b[0mapply_action\u001b[0m\u001b[0;34m(\u001b[0m\u001b[0mgame_state\u001b[0m\u001b[0;34m,\u001b[0m \u001b[0maction\u001b[0m\u001b[0;34m,\u001b[0m \u001b[0mamount\u001b[0m\u001b[0;34m)\u001b[0m\u001b[0;34m\u001b[0m\u001b[0m\n\u001b[1;32m     86\u001b[0m             \u001b[0mmailbox\u001b[0m \u001b[0;34m+=\u001b[0m \u001b[0mmessages\u001b[0m\u001b[0;34m\u001b[0m\u001b[0m\n",
      "\u001b[0;32m~/backup/PS_Roboter/Interactionspiel/code/Opponent_Model.py\u001b[0m in \u001b[0;36mdeclare_action\u001b[0;34m(self, valid_actions, hole_card, round_state)\u001b[0m\n\u001b[1;32m     24\u001b[0m         \u001b[0mself\u001b[0m\u001b[0;34m.\u001b[0m\u001b[0msmall_blind_amount\u001b[0m \u001b[0;34m=\u001b[0m \u001b[0mround_state\u001b[0m\u001b[0;34m[\u001b[0m\u001b[0;34m'small_blind_amount'\u001b[0m\u001b[0;34m]\u001b[0m\u001b[0;34m\u001b[0m\u001b[0m\n\u001b[1;32m     25\u001b[0m \u001b[0;34m\u001b[0m\u001b[0m\n\u001b[0;32m---> 26\u001b[0;31m         \u001b[0mself\u001b[0m\u001b[0;34m.\u001b[0m\u001b[0mwin_rate\u001b[0m \u001b[0;34m=\u001b[0m \u001b[0mget_win_rate\u001b[0m\u001b[0;34m(\u001b[0m\u001b[0mhole_card\u001b[0m\u001b[0;34m,\u001b[0m \u001b[0mcommunity_card\u001b[0m\u001b[0;34m)\u001b[0m\u001b[0;34m\u001b[0m\u001b[0m\n\u001b[0m\u001b[1;32m     27\u001b[0m         \u001b[0mchoose_action\u001b[0m\u001b[0;34m,\u001b[0m \u001b[0mamount\u001b[0m \u001b[0;34m=\u001b[0m \u001b[0mself\u001b[0m\u001b[0;34m.\u001b[0m\u001b[0mchoose_action\u001b[0m\u001b[0;34m(\u001b[0m\u001b[0mself\u001b[0m\u001b[0;34m.\u001b[0m\u001b[0mwin_rate\u001b[0m\u001b[0;34m,\u001b[0m \u001b[0mpot\u001b[0m\u001b[0;34m,\u001b[0m \u001b[0mvalid_actions\u001b[0m\u001b[0;34m)\u001b[0m\u001b[0;34m\u001b[0m\u001b[0m\n\u001b[1;32m     28\u001b[0m         \u001b[0;32mreturn\u001b[0m \u001b[0mchoose_action\u001b[0m\u001b[0;34m,\u001b[0m \u001b[0mamount\u001b[0m\u001b[0;34m\u001b[0m\u001b[0m\n",
      "\u001b[0;32m~/backup/PS_Roboter/Interactionspiel/code/utils.py\u001b[0m in \u001b[0;36mget_win_rate\u001b[0;34m(hole_card, community_card)\u001b[0m\n\u001b[1;32m     12\u001b[0m         \u001b[0mwin_rate\u001b[0m \u001b[0;34m=\u001b[0m \u001b[0mget_win_rate_in_database\u001b[0m\u001b[0;34m(\u001b[0m\u001b[0mhole_card\u001b[0m\u001b[0;34m,\u001b[0m \u001b[0mcommunity_card\u001b[0m\u001b[0;34m)\u001b[0m\u001b[0;34m\u001b[0m\u001b[0m\n\u001b[1;32m     13\u001b[0m     \u001b[0;32melse\u001b[0m\u001b[0;34m:\u001b[0m\u001b[0;34m\u001b[0m\u001b[0m\n\u001b[0;32m---> 14\u001b[0;31m         \u001b[0mwin_rate\u001b[0m \u001b[0;34m=\u001b[0m \u001b[0mcalculate_win_rate\u001b[0m\u001b[0;34m(\u001b[0m\u001b[0mhole_card\u001b[0m\u001b[0;34m,\u001b[0m \u001b[0mcommunity_card\u001b[0m\u001b[0;34m)\u001b[0m\u001b[0;34m\u001b[0m\u001b[0m\n\u001b[0m\u001b[1;32m     15\u001b[0m         \u001b[0;31m# record_win_rate(win_rate, hole_card, community_card)\u001b[0m\u001b[0;34m\u001b[0m\u001b[0;34m\u001b[0m\u001b[0m\n\u001b[1;32m     16\u001b[0m \u001b[0;34m\u001b[0m\u001b[0m\n",
      "\u001b[0;32m~/backup/PS_Roboter/Interactionspiel/code/utils.py\u001b[0m in \u001b[0;36mcalculate_win_rate\u001b[0;34m(hole_card, community_card)\u001b[0m\n\u001b[1;32m     90\u001b[0m                                                 \u001b[0mnb_player\u001b[0m \u001b[0;34m=\u001b[0m \u001b[0;36m2\u001b[0m\u001b[0;34m,\u001b[0m \u001b[0;31m#####only consider 2 players situation\u001b[0m\u001b[0;34m\u001b[0m\u001b[0m\n\u001b[1;32m     91\u001b[0m                                                 \u001b[0mhole_card\u001b[0m\u001b[0;34m=\u001b[0m\u001b[0mgen_cards\u001b[0m\u001b[0;34m(\u001b[0m\u001b[0mhole_card\u001b[0m\u001b[0;34m)\u001b[0m\u001b[0;34m,\u001b[0m\u001b[0;34m\u001b[0m\u001b[0m\n\u001b[0;32m---> 92\u001b[0;31m                                                 community_card=gen_cards(community_card))\n\u001b[0m\u001b[1;32m     93\u001b[0m         \u001b[0mls_win_rate\u001b[0m\u001b[0;34m.\u001b[0m\u001b[0mpop\u001b[0m\u001b[0;34m(\u001b[0m\u001b[0;36m0\u001b[0m\u001b[0;34m)\u001b[0m\u001b[0;34m\u001b[0m\u001b[0m\n\u001b[1;32m     94\u001b[0m         \u001b[0mitered_win_rate\u001b[0m \u001b[0;34m=\u001b[0m \u001b[0;34m(\u001b[0m\u001b[0mls_win_rate\u001b[0m\u001b[0;34m[\u001b[0m\u001b[0;34m-\u001b[0m\u001b[0;36m1\u001b[0m\u001b[0;34m]\u001b[0m \u001b[0;34m*\u001b[0m \u001b[0mcounter\u001b[0m \u001b[0;34m+\u001b[0m \u001b[0mnewer_win_rate\u001b[0m\u001b[0;34m)\u001b[0m \u001b[0;34m/\u001b[0m \u001b[0;34m(\u001b[0m\u001b[0mcounter\u001b[0m \u001b[0;34m+\u001b[0m \u001b[0;36m1\u001b[0m\u001b[0;34m)\u001b[0m\u001b[0;34m\u001b[0m\u001b[0m\n",
      "\u001b[0;32m~/miniconda2/envs/python3/lib/python3.6/site-packages/pypokerengine/utils/card_utils.py\u001b[0m in \u001b[0;36mestimate_hole_card_win_rate\u001b[0;34m(nb_simulation, nb_player, hole_card, community_card)\u001b[0m\n\u001b[1;32m     10\u001b[0m \u001b[0;32mdef\u001b[0m \u001b[0mestimate_hole_card_win_rate\u001b[0m\u001b[0;34m(\u001b[0m\u001b[0mnb_simulation\u001b[0m\u001b[0;34m,\u001b[0m \u001b[0mnb_player\u001b[0m\u001b[0;34m,\u001b[0m \u001b[0mhole_card\u001b[0m\u001b[0;34m,\u001b[0m \u001b[0mcommunity_card\u001b[0m\u001b[0;34m=\u001b[0m\u001b[0;32mNone\u001b[0m\u001b[0;34m)\u001b[0m\u001b[0;34m:\u001b[0m\u001b[0;34m\u001b[0m\u001b[0m\n\u001b[1;32m     11\u001b[0m     \u001b[0;32mif\u001b[0m \u001b[0;32mnot\u001b[0m \u001b[0mcommunity_card\u001b[0m\u001b[0;34m:\u001b[0m \u001b[0mcommunity_card\u001b[0m \u001b[0;34m=\u001b[0m \u001b[0;34m[\u001b[0m\u001b[0;34m]\u001b[0m\u001b[0;34m\u001b[0m\u001b[0m\n\u001b[0;32m---> 12\u001b[0;31m     \u001b[0mwin_count\u001b[0m \u001b[0;34m=\u001b[0m \u001b[0msum\u001b[0m\u001b[0;34m(\u001b[0m\u001b[0;34m[\u001b[0m\u001b[0m_montecarlo_simulation\u001b[0m\u001b[0;34m(\u001b[0m\u001b[0mnb_player\u001b[0m\u001b[0;34m,\u001b[0m \u001b[0mhole_card\u001b[0m\u001b[0;34m,\u001b[0m \u001b[0mcommunity_card\u001b[0m\u001b[0;34m)\u001b[0m \u001b[0;32mfor\u001b[0m \u001b[0m_\u001b[0m \u001b[0;32min\u001b[0m \u001b[0mrange\u001b[0m\u001b[0;34m(\u001b[0m\u001b[0mnb_simulation\u001b[0m\u001b[0;34m)\u001b[0m\u001b[0;34m]\u001b[0m\u001b[0;34m)\u001b[0m\u001b[0;34m\u001b[0m\u001b[0m\n\u001b[0m\u001b[1;32m     13\u001b[0m     \u001b[0;32mreturn\u001b[0m \u001b[0;36m1.0\u001b[0m \u001b[0;34m*\u001b[0m \u001b[0mwin_count\u001b[0m \u001b[0;34m/\u001b[0m \u001b[0mnb_simulation\u001b[0m\u001b[0;34m\u001b[0m\u001b[0m\n\u001b[1;32m     14\u001b[0m \u001b[0;34m\u001b[0m\u001b[0m\n",
      "\u001b[0;32m~/miniconda2/envs/python3/lib/python3.6/site-packages/pypokerengine/utils/card_utils.py\u001b[0m in \u001b[0;36m<listcomp>\u001b[0;34m(.0)\u001b[0m\n\u001b[1;32m     10\u001b[0m \u001b[0;32mdef\u001b[0m \u001b[0mestimate_hole_card_win_rate\u001b[0m\u001b[0;34m(\u001b[0m\u001b[0mnb_simulation\u001b[0m\u001b[0;34m,\u001b[0m \u001b[0mnb_player\u001b[0m\u001b[0;34m,\u001b[0m \u001b[0mhole_card\u001b[0m\u001b[0;34m,\u001b[0m \u001b[0mcommunity_card\u001b[0m\u001b[0;34m=\u001b[0m\u001b[0;32mNone\u001b[0m\u001b[0;34m)\u001b[0m\u001b[0;34m:\u001b[0m\u001b[0;34m\u001b[0m\u001b[0m\n\u001b[1;32m     11\u001b[0m     \u001b[0;32mif\u001b[0m \u001b[0;32mnot\u001b[0m \u001b[0mcommunity_card\u001b[0m\u001b[0;34m:\u001b[0m \u001b[0mcommunity_card\u001b[0m \u001b[0;34m=\u001b[0m \u001b[0;34m[\u001b[0m\u001b[0;34m]\u001b[0m\u001b[0;34m\u001b[0m\u001b[0m\n\u001b[0;32m---> 12\u001b[0;31m     \u001b[0mwin_count\u001b[0m \u001b[0;34m=\u001b[0m \u001b[0msum\u001b[0m\u001b[0;34m(\u001b[0m\u001b[0;34m[\u001b[0m\u001b[0m_montecarlo_simulation\u001b[0m\u001b[0;34m(\u001b[0m\u001b[0mnb_player\u001b[0m\u001b[0;34m,\u001b[0m \u001b[0mhole_card\u001b[0m\u001b[0;34m,\u001b[0m \u001b[0mcommunity_card\u001b[0m\u001b[0;34m)\u001b[0m \u001b[0;32mfor\u001b[0m \u001b[0m_\u001b[0m \u001b[0;32min\u001b[0m \u001b[0mrange\u001b[0m\u001b[0;34m(\u001b[0m\u001b[0mnb_simulation\u001b[0m\u001b[0;34m)\u001b[0m\u001b[0;34m]\u001b[0m\u001b[0;34m)\u001b[0m\u001b[0;34m\u001b[0m\u001b[0m\n\u001b[0m\u001b[1;32m     13\u001b[0m     \u001b[0;32mreturn\u001b[0m \u001b[0;36m1.0\u001b[0m \u001b[0;34m*\u001b[0m \u001b[0mwin_count\u001b[0m \u001b[0;34m/\u001b[0m \u001b[0mnb_simulation\u001b[0m\u001b[0;34m\u001b[0m\u001b[0m\n\u001b[1;32m     14\u001b[0m \u001b[0;34m\u001b[0m\u001b[0m\n",
      "\u001b[0;32m~/miniconda2/envs/python3/lib/python3.6/site-packages/pypokerengine/utils/card_utils.py\u001b[0m in \u001b[0;36m_montecarlo_simulation\u001b[0;34m(nb_player, hole_card, community_card)\u001b[0m\n\u001b[1;32m     35\u001b[0m     \u001b[0munused_cards\u001b[0m \u001b[0;34m=\u001b[0m \u001b[0m_pick_unused_card\u001b[0m\u001b[0;34m(\u001b[0m\u001b[0;34m(\u001b[0m\u001b[0mnb_player\u001b[0m\u001b[0;34m-\u001b[0m\u001b[0;36m1\u001b[0m\u001b[0;34m)\u001b[0m\u001b[0;34m*\u001b[0m\u001b[0;36m2\u001b[0m\u001b[0;34m,\u001b[0m \u001b[0mhole_card\u001b[0m \u001b[0;34m+\u001b[0m \u001b[0mcommunity_card\u001b[0m\u001b[0;34m)\u001b[0m\u001b[0;34m\u001b[0m\u001b[0m\n\u001b[1;32m     36\u001b[0m     \u001b[0mopponents_hole\u001b[0m \u001b[0;34m=\u001b[0m \u001b[0;34m[\u001b[0m\u001b[0munused_cards\u001b[0m\u001b[0;34m[\u001b[0m\u001b[0;36m2\u001b[0m\u001b[0;34m*\u001b[0m\u001b[0mi\u001b[0m\u001b[0;34m:\u001b[0m\u001b[0;36m2\u001b[0m\u001b[0;34m*\u001b[0m\u001b[0mi\u001b[0m\u001b[0;34m+\u001b[0m\u001b[0;36m2\u001b[0m\u001b[0;34m]\u001b[0m \u001b[0;32mfor\u001b[0m \u001b[0mi\u001b[0m \u001b[0;32min\u001b[0m \u001b[0mrange\u001b[0m\u001b[0;34m(\u001b[0m\u001b[0mnb_player\u001b[0m\u001b[0;34m-\u001b[0m\u001b[0;36m1\u001b[0m\u001b[0;34m)\u001b[0m\u001b[0;34m]\u001b[0m\u001b[0;34m\u001b[0m\u001b[0m\n\u001b[0;32m---> 37\u001b[0;31m     \u001b[0mopponents_score\u001b[0m \u001b[0;34m=\u001b[0m \u001b[0;34m[\u001b[0m\u001b[0mHandEvaluator\u001b[0m\u001b[0;34m.\u001b[0m\u001b[0meval_hand\u001b[0m\u001b[0;34m(\u001b[0m\u001b[0mhole\u001b[0m\u001b[0;34m,\u001b[0m \u001b[0mcommunity_card\u001b[0m\u001b[0;34m)\u001b[0m \u001b[0;32mfor\u001b[0m \u001b[0mhole\u001b[0m \u001b[0;32min\u001b[0m \u001b[0mopponents_hole\u001b[0m\u001b[0;34m]\u001b[0m\u001b[0;34m\u001b[0m\u001b[0m\n\u001b[0m\u001b[1;32m     38\u001b[0m     \u001b[0mmy_score\u001b[0m \u001b[0;34m=\u001b[0m \u001b[0mHandEvaluator\u001b[0m\u001b[0;34m.\u001b[0m\u001b[0meval_hand\u001b[0m\u001b[0;34m(\u001b[0m\u001b[0mhole_card\u001b[0m\u001b[0;34m,\u001b[0m \u001b[0mcommunity_card\u001b[0m\u001b[0;34m)\u001b[0m\u001b[0;34m\u001b[0m\u001b[0m\n\u001b[1;32m     39\u001b[0m     \u001b[0;32mreturn\u001b[0m \u001b[0;36m1\u001b[0m \u001b[0;32mif\u001b[0m \u001b[0mmy_score\u001b[0m \u001b[0;34m>=\u001b[0m \u001b[0mmax\u001b[0m\u001b[0;34m(\u001b[0m\u001b[0mopponents_score\u001b[0m\u001b[0;34m)\u001b[0m \u001b[0;32melse\u001b[0m \u001b[0;36m0\u001b[0m\u001b[0;34m\u001b[0m\u001b[0m\n",
      "\u001b[0;32m~/miniconda2/envs/python3/lib/python3.6/site-packages/pypokerengine/utils/card_utils.py\u001b[0m in \u001b[0;36m<listcomp>\u001b[0;34m(.0)\u001b[0m\n\u001b[1;32m     35\u001b[0m     \u001b[0munused_cards\u001b[0m \u001b[0;34m=\u001b[0m \u001b[0m_pick_unused_card\u001b[0m\u001b[0;34m(\u001b[0m\u001b[0;34m(\u001b[0m\u001b[0mnb_player\u001b[0m\u001b[0;34m-\u001b[0m\u001b[0;36m1\u001b[0m\u001b[0;34m)\u001b[0m\u001b[0;34m*\u001b[0m\u001b[0;36m2\u001b[0m\u001b[0;34m,\u001b[0m \u001b[0mhole_card\u001b[0m \u001b[0;34m+\u001b[0m \u001b[0mcommunity_card\u001b[0m\u001b[0;34m)\u001b[0m\u001b[0;34m\u001b[0m\u001b[0m\n\u001b[1;32m     36\u001b[0m     \u001b[0mopponents_hole\u001b[0m \u001b[0;34m=\u001b[0m \u001b[0;34m[\u001b[0m\u001b[0munused_cards\u001b[0m\u001b[0;34m[\u001b[0m\u001b[0;36m2\u001b[0m\u001b[0;34m*\u001b[0m\u001b[0mi\u001b[0m\u001b[0;34m:\u001b[0m\u001b[0;36m2\u001b[0m\u001b[0;34m*\u001b[0m\u001b[0mi\u001b[0m\u001b[0;34m+\u001b[0m\u001b[0;36m2\u001b[0m\u001b[0;34m]\u001b[0m \u001b[0;32mfor\u001b[0m \u001b[0mi\u001b[0m \u001b[0;32min\u001b[0m \u001b[0mrange\u001b[0m\u001b[0;34m(\u001b[0m\u001b[0mnb_player\u001b[0m\u001b[0;34m-\u001b[0m\u001b[0;36m1\u001b[0m\u001b[0;34m)\u001b[0m\u001b[0;34m]\u001b[0m\u001b[0;34m\u001b[0m\u001b[0m\n\u001b[0;32m---> 37\u001b[0;31m     \u001b[0mopponents_score\u001b[0m \u001b[0;34m=\u001b[0m \u001b[0;34m[\u001b[0m\u001b[0mHandEvaluator\u001b[0m\u001b[0;34m.\u001b[0m\u001b[0meval_hand\u001b[0m\u001b[0;34m(\u001b[0m\u001b[0mhole\u001b[0m\u001b[0;34m,\u001b[0m \u001b[0mcommunity_card\u001b[0m\u001b[0;34m)\u001b[0m \u001b[0;32mfor\u001b[0m \u001b[0mhole\u001b[0m \u001b[0;32min\u001b[0m \u001b[0mopponents_hole\u001b[0m\u001b[0;34m]\u001b[0m\u001b[0;34m\u001b[0m\u001b[0m\n\u001b[0m\u001b[1;32m     38\u001b[0m     \u001b[0mmy_score\u001b[0m \u001b[0;34m=\u001b[0m \u001b[0mHandEvaluator\u001b[0m\u001b[0;34m.\u001b[0m\u001b[0meval_hand\u001b[0m\u001b[0;34m(\u001b[0m\u001b[0mhole_card\u001b[0m\u001b[0;34m,\u001b[0m \u001b[0mcommunity_card\u001b[0m\u001b[0;34m)\u001b[0m\u001b[0;34m\u001b[0m\u001b[0m\n\u001b[1;32m     39\u001b[0m     \u001b[0;32mreturn\u001b[0m \u001b[0;36m1\u001b[0m \u001b[0;32mif\u001b[0m \u001b[0mmy_score\u001b[0m \u001b[0;34m>=\u001b[0m \u001b[0mmax\u001b[0m\u001b[0;34m(\u001b[0m\u001b[0mopponents_score\u001b[0m\u001b[0;34m)\u001b[0m \u001b[0;32melse\u001b[0m \u001b[0;36m0\u001b[0m\u001b[0;34m\u001b[0m\u001b[0m\n",
      "\u001b[0;32m~/miniconda2/envs/python3/lib/python3.6/site-packages/pypokerengine/engine/hand_evaluator.py\u001b[0m in \u001b[0;36meval_hand\u001b[0;34m(self, hole, community)\u001b[0m\n\u001b[1;32m     52\u001b[0m     \u001b[0mranks\u001b[0m \u001b[0;34m=\u001b[0m \u001b[0msorted\u001b[0m\u001b[0;34m(\u001b[0m\u001b[0;34m[\u001b[0m\u001b[0mcard\u001b[0m\u001b[0;34m.\u001b[0m\u001b[0mrank\u001b[0m \u001b[0;32mfor\u001b[0m \u001b[0mcard\u001b[0m \u001b[0;32min\u001b[0m \u001b[0mhole\u001b[0m\u001b[0;34m]\u001b[0m\u001b[0;34m)\u001b[0m\u001b[0;34m\u001b[0m\u001b[0m\n\u001b[1;32m     53\u001b[0m     \u001b[0mhole_flg\u001b[0m \u001b[0;34m=\u001b[0m \u001b[0mranks\u001b[0m\u001b[0;34m[\u001b[0m\u001b[0;36m1\u001b[0m\u001b[0;34m]\u001b[0m \u001b[0;34m<<\u001b[0m \u001b[0;36m4\u001b[0m \u001b[0;34m|\u001b[0m \u001b[0mranks\u001b[0m\u001b[0;34m[\u001b[0m\u001b[0;36m0\u001b[0m\u001b[0;34m]\u001b[0m\u001b[0;34m\u001b[0m\u001b[0m\n\u001b[0;32m---> 54\u001b[0;31m     \u001b[0mhand_flg\u001b[0m \u001b[0;34m=\u001b[0m \u001b[0mself\u001b[0m\u001b[0;34m.\u001b[0m\u001b[0m__calc_hand_info_flg\u001b[0m\u001b[0;34m(\u001b[0m\u001b[0mhole\u001b[0m\u001b[0;34m,\u001b[0m \u001b[0mcommunity\u001b[0m\u001b[0;34m)\u001b[0m \u001b[0;34m<<\u001b[0m \u001b[0;36m8\u001b[0m\u001b[0;34m\u001b[0m\u001b[0m\n\u001b[0m\u001b[1;32m     55\u001b[0m     \u001b[0;32mreturn\u001b[0m \u001b[0mhand_flg\u001b[0m \u001b[0;34m|\u001b[0m \u001b[0mhole_flg\u001b[0m\u001b[0;34m\u001b[0m\u001b[0m\n\u001b[1;32m     56\u001b[0m \u001b[0;34m\u001b[0m\u001b[0m\n",
      "\u001b[0;32m~/miniconda2/envs/python3/lib/python3.6/site-packages/pypokerengine/engine/hand_evaluator.py\u001b[0m in \u001b[0;36m__calc_hand_info_flg\u001b[0;34m(self, hole, community)\u001b[0m\n\u001b[1;32m     75\u001b[0m     \u001b[0;32mif\u001b[0m \u001b[0mself\u001b[0m\u001b[0;34m.\u001b[0m\u001b[0m__is_flash\u001b[0m\u001b[0;34m(\u001b[0m\u001b[0mcards\u001b[0m\u001b[0;34m)\u001b[0m\u001b[0;34m:\u001b[0m \u001b[0;32mreturn\u001b[0m \u001b[0mself\u001b[0m\u001b[0;34m.\u001b[0m\u001b[0mFLASH\u001b[0m \u001b[0;34m|\u001b[0m \u001b[0mself\u001b[0m\u001b[0;34m.\u001b[0m\u001b[0m__eval_flash\u001b[0m\u001b[0;34m(\u001b[0m\u001b[0mcards\u001b[0m\u001b[0;34m)\u001b[0m\u001b[0;34m\u001b[0m\u001b[0m\n\u001b[1;32m     76\u001b[0m     \u001b[0;32mif\u001b[0m \u001b[0mself\u001b[0m\u001b[0;34m.\u001b[0m\u001b[0m__is_straight\u001b[0m\u001b[0;34m(\u001b[0m\u001b[0mcards\u001b[0m\u001b[0;34m)\u001b[0m\u001b[0;34m:\u001b[0m \u001b[0;32mreturn\u001b[0m \u001b[0mself\u001b[0m\u001b[0;34m.\u001b[0m\u001b[0mSTRAIGHT\u001b[0m \u001b[0;34m|\u001b[0m \u001b[0mself\u001b[0m\u001b[0;34m.\u001b[0m\u001b[0m__eval_straight\u001b[0m\u001b[0;34m(\u001b[0m\u001b[0mcards\u001b[0m\u001b[0;34m)\u001b[0m\u001b[0;34m\u001b[0m\u001b[0m\n\u001b[0;32m---> 77\u001b[0;31m     \u001b[0;32mif\u001b[0m \u001b[0mself\u001b[0m\u001b[0;34m.\u001b[0m\u001b[0m__is_threecard\u001b[0m\u001b[0;34m(\u001b[0m\u001b[0mcards\u001b[0m\u001b[0;34m)\u001b[0m\u001b[0;34m:\u001b[0m \u001b[0;32mreturn\u001b[0m \u001b[0mself\u001b[0m\u001b[0;34m.\u001b[0m\u001b[0mTHREECARD\u001b[0m \u001b[0;34m|\u001b[0m \u001b[0mself\u001b[0m\u001b[0;34m.\u001b[0m\u001b[0m__eval_threecard\u001b[0m\u001b[0;34m(\u001b[0m\u001b[0mcards\u001b[0m\u001b[0;34m)\u001b[0m\u001b[0;34m\u001b[0m\u001b[0m\n\u001b[0m\u001b[1;32m     78\u001b[0m     \u001b[0;32mif\u001b[0m \u001b[0mself\u001b[0m\u001b[0;34m.\u001b[0m\u001b[0m__is_twopair\u001b[0m\u001b[0;34m(\u001b[0m\u001b[0mcards\u001b[0m\u001b[0;34m)\u001b[0m\u001b[0;34m:\u001b[0m \u001b[0;32mreturn\u001b[0m \u001b[0mself\u001b[0m\u001b[0;34m.\u001b[0m\u001b[0mTWOPAIR\u001b[0m \u001b[0;34m|\u001b[0m \u001b[0mself\u001b[0m\u001b[0;34m.\u001b[0m\u001b[0m__eval_twopair\u001b[0m\u001b[0;34m(\u001b[0m\u001b[0mcards\u001b[0m\u001b[0;34m)\u001b[0m\u001b[0;34m\u001b[0m\u001b[0m\n\u001b[1;32m     79\u001b[0m     \u001b[0;32mif\u001b[0m \u001b[0mself\u001b[0m\u001b[0;34m.\u001b[0m\u001b[0m__is_onepair\u001b[0m\u001b[0;34m(\u001b[0m\u001b[0mcards\u001b[0m\u001b[0;34m)\u001b[0m\u001b[0;34m:\u001b[0m \u001b[0;32mreturn\u001b[0m \u001b[0mself\u001b[0m\u001b[0;34m.\u001b[0m\u001b[0mONEPAIR\u001b[0m \u001b[0;34m|\u001b[0m \u001b[0;34m(\u001b[0m\u001b[0mself\u001b[0m\u001b[0;34m.\u001b[0m\u001b[0m__eval_onepair\u001b[0m\u001b[0;34m(\u001b[0m\u001b[0mcards\u001b[0m\u001b[0;34m)\u001b[0m\u001b[0;34m)\u001b[0m\u001b[0;34m\u001b[0m\u001b[0m\n",
      "\u001b[0;32m~/miniconda2/envs/python3/lib/python3.6/site-packages/pypokerengine/engine/hand_evaluator.py\u001b[0m in \u001b[0;36m__is_threecard\u001b[0;34m(self, cards)\u001b[0m\n\u001b[1;32m    120\u001b[0m   \u001b[0;34m@\u001b[0m\u001b[0mclassmethod\u001b[0m\u001b[0;34m\u001b[0m\u001b[0m\n\u001b[1;32m    121\u001b[0m   \u001b[0;32mdef\u001b[0m \u001b[0m__is_threecard\u001b[0m\u001b[0;34m(\u001b[0m\u001b[0mself\u001b[0m\u001b[0;34m,\u001b[0m \u001b[0mcards\u001b[0m\u001b[0;34m)\u001b[0m\u001b[0;34m:\u001b[0m\u001b[0;34m\u001b[0m\u001b[0m\n\u001b[0;32m--> 122\u001b[0;31m     \u001b[0;32mreturn\u001b[0m \u001b[0mself\u001b[0m\u001b[0;34m.\u001b[0m\u001b[0m__search_threecard\u001b[0m\u001b[0;34m(\u001b[0m\u001b[0mcards\u001b[0m\u001b[0;34m)\u001b[0m \u001b[0;34m!=\u001b[0m \u001b[0;34m-\u001b[0m\u001b[0;36m1\u001b[0m\u001b[0;34m\u001b[0m\u001b[0m\n\u001b[0m\u001b[1;32m    123\u001b[0m \u001b[0;34m\u001b[0m\u001b[0m\n\u001b[1;32m    124\u001b[0m   \u001b[0;34m@\u001b[0m\u001b[0mclassmethod\u001b[0m\u001b[0;34m\u001b[0m\u001b[0m\n",
      "\u001b[0;32m~/miniconda2/envs/python3/lib/python3.6/site-packages/pypokerengine/engine/hand_evaluator.py\u001b[0m in \u001b[0;36m__search_threecard\u001b[0;34m(self, cards)\u001b[0m\n\u001b[1;32m    132\u001b[0m     \u001b[0;32mfor\u001b[0m \u001b[0mr\u001b[0m \u001b[0;32min\u001b[0m \u001b[0mrange\u001b[0m\u001b[0;34m(\u001b[0m\u001b[0;36m2\u001b[0m\u001b[0;34m,\u001b[0m \u001b[0;36m15\u001b[0m\u001b[0;34m)\u001b[0m\u001b[0;34m:\u001b[0m\u001b[0;34m\u001b[0m\u001b[0m\n\u001b[1;32m    133\u001b[0m       \u001b[0mbit_memo\u001b[0m \u001b[0;34m>>=\u001b[0m \u001b[0;36m3\u001b[0m\u001b[0;34m\u001b[0m\u001b[0m\n\u001b[0;32m--> 134\u001b[0;31m       \u001b[0mcount\u001b[0m \u001b[0;34m=\u001b[0m \u001b[0mbit_memo\u001b[0m \u001b[0;34m&\u001b[0m \u001b[0;36m7\u001b[0m\u001b[0;34m\u001b[0m\u001b[0m\n\u001b[0m\u001b[1;32m    135\u001b[0m       \u001b[0;32mif\u001b[0m \u001b[0mcount\u001b[0m \u001b[0;34m>=\u001b[0m \u001b[0;36m3\u001b[0m\u001b[0;34m:\u001b[0m \u001b[0mrank\u001b[0m \u001b[0;34m=\u001b[0m \u001b[0mr\u001b[0m\u001b[0;34m\u001b[0m\u001b[0m\n\u001b[1;32m    136\u001b[0m     \u001b[0;32mreturn\u001b[0m \u001b[0mrank\u001b[0m\u001b[0;34m\u001b[0m\u001b[0m\n",
      "\u001b[0;31mKeyboardInterrupt\u001b[0m: "
     ]
    }
   ],
   "source": [
    "from pypokerengine.api.game import setup_config, start_poker\n",
    "from Model_Player import ModelPlayer\n",
    "from Rational_Player import RationalPlayer\n",
    "\n",
    "config = setup_config(max_round=2, initial_stack=1000, small_blind_amount=10)\n",
    "config.register_player(name=\"p1\", algorithm=ModelPlayer(\"model\"))\n",
    "# config.register_player(name=\"p1\", algorithm=InteractivePlayer())\n",
    "config.register_player(name=\"p2\", algorithm=RationalPlayer('RP_with_limit'))\n",
    "game_result = start_poker(config, verbose=1)"
   ]
  },
  {
   "cell_type": "code",
   "execution_count": null,
   "metadata": {
    "ExecuteTime": {
     "start_time": "2018-06-09T15:57:19.512Z"
    }
   },
   "outputs": [
    {
     "name": "stdout",
     "output_type": "stream",
     "text": [
      "> \u001b[0;32m/home/haoyi/backup/PS_Roboter/Interactionspiel/code/utils.py\u001b[0m(136)\u001b[0;36mget_stack\u001b[0;34m()\u001b[0m\n",
      "\u001b[0;32m    132 \u001b[0;31m    \u001b[0;32mfor\u001b[0m \u001b[0mplayer\u001b[0m \u001b[0;32min\u001b[0m \u001b[0mseats\u001b[0m\u001b[0;34m:\u001b[0m\u001b[0;34m\u001b[0m\u001b[0m\n",
      "\u001b[0m\u001b[0;32m    133 \u001b[0;31m        \u001b[0;32mif\u001b[0m \u001b[0mplayer\u001b[0m\u001b[0;34m[\u001b[0m\u001b[0;34m'uuid'\u001b[0m\u001b[0;34m]\u001b[0m \u001b[0;34m==\u001b[0m \u001b[0mstr_uuid\u001b[0m\u001b[0;34m:\u001b[0m\u001b[0;34m\u001b[0m\u001b[0m\n",
      "\u001b[0m\u001b[0;32m    134 \u001b[0;31m            \u001b[0;32mreturn\u001b[0m \u001b[0mplayer\u001b[0m\u001b[0;34m[\u001b[0m\u001b[0;34m'stack'\u001b[0m\u001b[0;34m]\u001b[0m\u001b[0;34m\u001b[0m\u001b[0m\n",
      "\u001b[0m\u001b[0;32m    135 \u001b[0;31m        \u001b[0;32melse\u001b[0m\u001b[0;34m:\u001b[0m\u001b[0;34m\u001b[0m\u001b[0m\n",
      "\u001b[0m\u001b[0;32m--> 136 \u001b[0;31m            \u001b[0;32mraise\u001b[0m\u001b[0;34m(\u001b[0m\u001b[0;34m'player not exists'\u001b[0m\u001b[0;34m)\u001b[0m\u001b[0;34m\u001b[0m\u001b[0m\n",
      "\u001b[0m\n",
      "ipdb> str_uuid\n",
      "'oalxbadbxnuntdtdsmxtbo'\n",
      "ipdb> player\n",
      "{'name': 'p1', 'uuid': 'gkgxrusamzswmgqiecdbgr', 'stack': 980, 'state': 'participating'}\n",
      "ipdb> seats\n",
      "[{'name': 'p1', 'uuid': 'gkgxrusamzswmgqiecdbgr', 'stack': 980, 'state': 'participating'}, {'name': 'p2', 'uuid': 'oalxbadbxnuntdtdsmxtbo', 'stack': 990, 'state': 'participating'}]\n"
     ]
    }
   ],
   "source": [
    "%debug"
   ]
  },
  {
   "cell_type": "code",
   "execution_count": 1,
   "metadata": {
    "ExecuteTime": {
     "end_time": "2018-06-09T15:58:49.808565Z",
     "start_time": "2018-06-09T15:58:49.698486Z"
    }
   },
   "outputs": [],
   "source": [
    "from pypokerengine.players import BasePokerPlayer\n",
    "from pypokerengine.utils.card_utils import gen_cards, estimate_hole_card_win_rate\n",
    "from utils import get_win_rate, get_stack, is_raise_limit_reached\n",
    "import numpy as np\n",
    "import sqlite3 as lite\n",
    "\n",
    "db_name = 'game_information.db'\n",
    "class InteractivePlayer(BasePokerPlayer):\n",
    "    def __init__(self):\n",
    "        self.raise_threshold_defensive = 0.8\n",
    "        self.fold_threshold_defensive = 0.5\n",
    "        self.bluffing_max_defensive = 0.3\n",
    "        \n",
    "        self.raise_threshold_aggressive = 0.6\n",
    "        self.fold_threshold_aggressive = 0.2\n",
    "        self.bluffing_max_aggresive = 0.5\n",
    "        self.player_type = 0 # 0 = defensiv 1 = aggresiv\n",
    "        self.strategy_change_count = 50 #how many hands it will change its strategy\n",
    "        \n",
    "        self.hand_count = 0\n",
    "        \n",
    "        self.opponent_hand_count = 0\n",
    "        self.opponent_fold_count = 0\n",
    "        self.opponent_raise_count = 0\n",
    "        self.opponent_call_count = 0\n",
    "    def declare_action(self, valid_actions, hole_card, round_state):\n",
    "        community_card = round_state['community_card']\n",
    "        pot = round_state['pot']['main']['amount']\n",
    "        win_rate = get_win_rate(hole_card, community_card)\n",
    "#         self_bet = self.cal_self_bet(round_state)\n",
    "        call_amount = valid_actions[1]['amount']\n",
    "        raise_amount = valid_actions[2]['amount']['min']\n",
    "#         ev = self.ev_calculation(win_rate, pot, call_amount, self_bet, raise_amount)\n",
    "        \n",
    "        chosen_action = self.choose_action(win_rate, round_state, valid_actions)\n",
    "        \n",
    "        return chosen_action\n",
    "\n",
    "\n",
    "    def receive_game_start_message(self, game_info):\n",
    "        self.small_blind_amount = game_info['rule']['small_blind_amount']\n",
    "        \n",
    "        self.init_opponent_table(game_info)\n",
    "    def receive_round_start_message(self, round_count, hole_card, seats):\n",
    "        self.stack_at_round_start = get_stack(seats, self.uuid)\n",
    "        print(self.stack_at_round_start)\n",
    "\n",
    "    def receive_street_start_message(self, street, round_state):\n",
    "        pass\n",
    "\n",
    "    def receive_game_update_message(self, action, round_state):\n",
    "        self.record_opponent(action, round_state)\n",
    "\n",
    "    def receive_round_result_message(self, winners, hand_info, round_state):\n",
    "        pass\n",
    "    \n",
    "    def cal_self_bet(round_state):\n",
    "        if round_state['seats'][big_blind_pos]['uuid'] == self.uuid['uuid']:\n",
    "            return self.stack_at_round_start - get_stack(round_state['seats'], self.uuid) + self.small_blind_amount * 2\n",
    "        else:\n",
    "            return self.stack_at_round_start - get_stack(round_state['seats'], self.uuid) + self.small_blind_amount\n",
    "    \n",
    "    def choose_action(self, win_rate, round_state, valid_actions):\n",
    "        self.hand_count += 1\n",
    "        r = np.random.random()\n",
    "        if self.hand_count % 50 == 0:\n",
    "            if self.player_type == 0:\n",
    "                self.player_type = 1\n",
    "            elif self.player_type == 1:\n",
    "                self.player_type == 0\n",
    "            else:\n",
    "                raise('?????')\n",
    "                \n",
    "        if self.player_type == 0:\n",
    "            raise_threshold = self.raise_threshold_defensive\n",
    "            bluffing_threshold = (win_rate - self.fold_threshold_defensive) / \\\n",
    "                                (self.raise_threshold_defensive - self.fold_threshold_defensive) * self.bluffing_max_defensive\n",
    "            fold_threshold = self.fold_threshold_defensive\n",
    "        elif self.player_type == 1:\n",
    "            raise_threshold = self.raise_threshold_aggressive\n",
    "            bluffing_threshold = (win_rate - self.fold_threshold_aggressive) / \\\n",
    "                                (self.raise_threshold_aggressive - self.fold_threshold_aggressive) * self.bluffing_max_aggresive\n",
    "            fold_threshold = self.fold_threshold_aggressive\n",
    "        else:\n",
    "            raise('?????')\n",
    "        \n",
    "        \n",
    "        if win_rate > raise_threshold:\n",
    "            if not is_raise_limit_reached(round_state):\n",
    "                return valid_actions[2]['action'], valid_actions[2]['amount']['min']\n",
    "            else:\n",
    "                return valid_actions[1]['action'], valid_actions[1]['amount']\n",
    "        elif win_rate < fold_threshold:\n",
    "            return valid_actions[0]['action'], valid_actions[0]['amount']\n",
    "        elif r < bluffing_threshold:\n",
    "            return valid_actions[2]['action'], valid_actions[2]['amount']['min']\n",
    "        else:\n",
    "            return valid_actions[1]['action'], valid_actions[1]['amount']\n",
    "        \n",
    "        \n",
    "    def record_opponent(self, new_action, round_state):\n",
    "        if not new_action['player_uuid'] == self.uuid:\n",
    "            self.opponent_hand_count += 1\n",
    "            if new_action['action'] == 'raise':\n",
    "                self.opponent_raise_count += 1\n",
    "            elif new_action['action'] == 'fold':\n",
    "                self.opponent_fold_count += 1\n",
    "            elif new_action['action'] == 'call':\n",
    "                self.opponent_call_count += 1\n",
    "            else:\n",
    "                raise('?????')\n",
    "        \n",
    "            if not self.opponent_hand_count == 0 and self.opponent_hand_count % 50 == 0:\n",
    "                record = []\n",
    "                record.append(self.opponent_call_count / 50.)\n",
    "                record.append(self.opponent_fold_count / 50.)\n",
    "                record.append(self.opponent_raise_count / 50.)\n",
    "\n",
    "                self.opponent_fold_count = 0\n",
    "                self.opponent_raise_count = 0\n",
    "                self.opponent_call_count = 0\n",
    "                con = lite.connect(db_name)\n",
    "\n",
    "                with con:\n",
    "                    cur = con.cursor()\n",
    "                    cur.execute(\"INSERT INTO {tn}(call_percentage, fold_percentage, raise_percentage) VALUES(?,?,?)\".format(tn = self.oppo_table_name), record)\n",
    "\n",
    "    def init_opponent_table(self, game_info):\n",
    "        for player in game_info['seats']:\n",
    "            if not player['uuid'] == self.uuid:\n",
    "                opponent_name = player['name']\n",
    "        self.oppo_table_name = \"Percentages_record_{on}\".format(on = opponent_name)\n",
    "        con = lite.connect(db_name)\n",
    "\n",
    "        with con:\n",
    "            cur = con.cursor()\n",
    "            cur.execute(\"CREATE TABLE IF NOT EXISTS {nt}(_Id INTEGER PRIMARY KEY, call_percentage REAL, fold_percentage REAL, raise_percentage REAL)\".format(nt = self.oppo_table_name))\n",
    "\n",
    "#     def ev_calculation(self, win_rate, pot, call_amount, self_bet, raise_amount):\n",
    "#         ev = [0 for i in range(3)]\n",
    "#         ev[0] = -self_bet\n",
    "#         ev[1] = win_rate * (pot - self_bet) - (1 - win_rate) * call_amount\n",
    "#         ev[2] = win_rate * (pot - self_bet + 2 * self.small_blind_amount) - (1 - win_rate) * raise_amount\n",
    "#         return ev"
   ]
  },
  {
   "cell_type": "code",
   "execution_count": null,
   "metadata": {
    "ExecuteTime": {
     "end_time": "2018-06-09T15:00:34.992187Z",
     "start_time": "2018-06-09T15:00:34.980564Z"
    }
   },
   "outputs": [],
   "source": []
  },
  {
   "cell_type": "code",
   "execution_count": 4,
   "metadata": {},
   "outputs": [
    {
     "data": {
      "text/plain": [
       "19"
      ]
     },
     "execution_count": 4,
     "metadata": {},
     "output_type": "execute_result"
    }
   ],
   "source": []
  },
  {
   "cell_type": "code",
   "execution_count": null,
   "metadata": {},
   "outputs": [],
   "source": []
  },
  {
   "cell_type": "code",
   "execution_count": null,
   "metadata": {},
   "outputs": [],
   "source": []
  },
  {
   "cell_type": "code",
   "execution_count": null,
   "metadata": {},
   "outputs": [],
   "source": []
  },
  {
   "cell_type": "code",
   "execution_count": 1,
   "metadata": {
    "ExecuteTime": {
     "end_time": "2018-06-05T16:52:07.095448Z",
     "start_time": "2018-06-05T15:34:08.599664Z"
    }
   },
   "outputs": [
    {
     "name": "stdout",
     "output_type": "stream",
     "text": [
      "99980\n",
      "Started the round 1\n",
      "Street \"preflop\" started. (community card = [])\n",
      "\"p2\" declared \"raise:30\"\n",
      "\"p1\" declared \"fold:0\"\n",
      "\"['p2']\" won the round 1 (stack = {'p1': 99980, 'p2': 100020})\n",
      "99970\n",
      "Started the round 2\n",
      "Street \"preflop\" started. (community card = [])\n",
      "\"p1\" declared \"call:20\"\n",
      "\"p2\" declared \"raise:30\"\n",
      "\"p1\" declared \"call:30\"\n",
      "Street \"flop\" started. (community card = ['CQ', 'S7', 'D9'])\n",
      "\"p1\" declared \"call:0\"\n",
      "\"p2\" declared \"raise:20\"\n",
      "\"p1\" declared \"call:20\"\n",
      "Street \"turn\" started. (community card = ['CQ', 'S7', 'D9', 'CJ'])\n",
      "\"p1\" declared \"call:0\"\n",
      "\"p2\" declared \"raise:20\"\n",
      "\"p1\" declared \"call:20\"\n",
      "Street \"river\" started. (community card = ['CQ', 'S7', 'D9', 'CJ', 'S3'])\n",
      "\"p1\" declared \"call:0\"\n",
      "\"p2\" declared \"raise:20\"\n",
      "\"p1\" declared \"call:20\"\n",
      "\"['p1']\" won the round 2 (stack = {'p1': 100070, 'p2': 99930})\n",
      "100050\n",
      "Started the round 3\n",
      "Street \"preflop\" started. (community card = [])\n",
      "\"p2\" declared \"raise:30\"\n",
      "\"p1\" declared \"fold:0\"\n",
      "\"['p2']\" won the round 3 (stack = {'p1': 100050, 'p2': 99950})\n",
      "100040\n",
      "Started the round 4\n",
      "Street \"preflop\" started. (community card = [])\n",
      "\"p1\" declared \"call:20\"\n",
      "\"p2\" declared \"raise:30\"\n",
      "\"p1\" declared \"call:30\"\n",
      "Street \"flop\" started. (community card = ['H6', 'HJ', 'SA'])\n",
      "\"p1\" declared \"call:0\"\n",
      "\"p2\" declared \"raise:20\"\n",
      "\"p1\" declared \"call:20\"\n",
      "Street \"turn\" started. (community card = ['H6', 'HJ', 'SA', 'D5'])\n",
      "\"p1\" declared \"fold:0\"\n",
      "\"['p2']\" won the round 4 (stack = {'p1': 100000, 'p2': 100000})\n",
      "99980\n",
      "Started the round 5\n",
      "Street \"preflop\" started. (community card = [])\n",
      "\"p2\" declared \"call:20\"\n",
      "\"p1\" declared \"call:20\"\n",
      "Street \"flop\" started. (community card = ['DQ', 'S9', 'H5'])\n",
      "\"p2\" declared \"call:0\"\n",
      "\"p1\" declared \"call:0\"\n",
      "Street \"turn\" started. (community card = ['DQ', 'S9', 'H5', 'CJ'])\n",
      "\"p2\" declared \"call:0\"\n",
      "\"p1\" declared \"call:0\"\n",
      "Street \"river\" started. (community card = ['DQ', 'S9', 'H5', 'CJ', 'HT'])\n",
      "\"p2\" declared \"call:0\"\n",
      "\"p1\" declared \"raise:20\"\n",
      "\"p2\" declared \"call:20\"\n",
      "\"['p1']\" won the round 5 (stack = {'p1': 100040, 'p2': 99960})\n"
     ]
    }
   ],
   "source": [
    "from pypokerengine.api.game import setup_config, start_poker\n",
    "from Model_Player import ModelPlayer\n",
    "from Rational_Player import RationalPlayer\n",
    "from Interactive_Player import InteractivePlayer\n",
    "\n",
    "config = setup_config(max_round=5, initial_stack=100000, small_blind_amount=10)\n",
    "# config.register_player(name=\"p1\", algorithm=ModelPlayer(\"model\"))\n",
    "# config.register_player(name=\"p1\", algorithm=RationalPlayer('RP_more_detail'))\n",
    "# config.register_player(name=\"p2\", algorithm=RationalPlayer('RP_more_detail'))\n",
    "config.register_player(name=\"p1\", algorithm=InteractivePlayer())\n",
    "# config.register_player(name=\"p2\", algorithm=InteractivePlayer())\n",
    "config.register_player(name=\"p2\", algorithm=RationalPlayer('RP_more_detail'))\n",
    "\n",
    "\n",
    "game_result = start_poker(config, verbose=1)"
   ]
  },
  {
   "cell_type": "code",
   "execution_count": 1,
   "metadata": {
    "ExecuteTime": {
     "end_time": "2018-06-05T15:28:01.165317Z",
     "start_time": "2018-06-05T15:28:00.949995Z"
    }
   },
   "outputs": [
    {
     "ename": "TypeError",
     "evalue": "run() missing 1 required positional argument: 'fetches'",
     "output_type": "error",
     "traceback": [
      "\u001b[0;31m---------------------------------------------------------------------------\u001b[0m",
      "\u001b[0;31mTypeError\u001b[0m                                 Traceback (most recent call last)",
      "\u001b[0;32m<ipython-input-1-c2f1e59091fd>\u001b[0m in \u001b[0;36m<module>\u001b[0;34m()\u001b[0m\n\u001b[1;32m      8\u001b[0m \u001b[0msess\u001b[0m \u001b[0;34m=\u001b[0m \u001b[0mtf\u001b[0m\u001b[0;34m.\u001b[0m\u001b[0mSession\u001b[0m\u001b[0;34m(\u001b[0m\u001b[0;34m)\u001b[0m\u001b[0;34m\u001b[0m\u001b[0m\n\u001b[1;32m      9\u001b[0m \u001b[0;34m\u001b[0m\u001b[0m\n\u001b[0;32m---> 10\u001b[0;31m \u001b[0msess\u001b[0m\u001b[0;34m.\u001b[0m\u001b[0mrun\u001b[0m\u001b[0;34m(\u001b[0m\u001b[0;34m)\u001b[0m\u001b[0;34m\u001b[0m\u001b[0m\n\u001b[0m\u001b[1;32m     11\u001b[0m \u001b[0;34m\u001b[0m\u001b[0m\n\u001b[1;32m     12\u001b[0m \u001b[0mprint\u001b[0m\u001b[0;34m(\u001b[0m\u001b[0msess\u001b[0m\u001b[0;34m.\u001b[0m\u001b[0mrun\u001b[0m\u001b[0;34m(\u001b[0m\u001b[0madd\u001b[0m\u001b[0;34m)\u001b[0m\u001b[0;34m)\u001b[0m\u001b[0;34m\u001b[0m\u001b[0m\n",
      "\u001b[0;31mTypeError\u001b[0m: run() missing 1 required positional argument: 'fetches'"
     ]
    }
   ],
   "source": [
    "import tensorflow as tf\n",
    "\n",
    "my_var = tf.Variable(3, name = 'my_variable')\n",
    "add = tf.add(5, my_var)\n",
    "mul = tf.multiply(8, my_var)\n",
    "\n",
    "init = tf.global_variables_initializer()\n",
    "sess = tf.Session()\n",
    "\n",
    "sess.run()\n",
    "\n",
    "print(sess.run(add))\n",
    "print(sess.run(mul))\n"
   ]
  },
  {
   "cell_type": "code",
   "execution_count": null,
   "metadata": {
    "ExecuteTime": {
     "end_time": "2018-06-05T18:59:29.907195Z",
     "start_time": "2018-06-05T18:59:29.792776Z"
    }
   },
   "outputs": [],
   "source": [
    "from sklearn import datasets\n",
    "import tensorflow as tf\n",
    "import numpy as np\n",
    "import sqlite3 as lite\n",
    "\n",
    "np.random.seed(1)\n",
    "tf.set_random_seed(1)\n",
    "\n",
    "sess = tf.Session()\n",
    "\n",
    "#data\n",
    "con = lite.connect('game_information.db')\n",
    "\n",
    "with con:\n",
    "    cur = con.cursor()\n",
    "    \n",
    "    cur.execute('SELECT action FROM record_rationalplayer_rp_more_detail')\n",
    "    label_database = cur.fetchall()\n",
    "    \n",
    "    cur.execute('SELECT win_rate,small_blind_amount,pot,selfbet,callamount FROM record_rationalplayer_rp_more_detail')\n",
    "    data = cur.fetchall()\n",
    "\n",
    "label = []\n",
    "for item in label_database:\n",
    "    label.append(item[0])\n",
    "    \n",
    "#divide in train set and test set\n",
    "train_indices = np.random.choice(len(data),round(len(data)*0.8))\n",
    "test_indices = np.array(list(set(range(len(data))) - set(train_indices)))\n",
    "\n",
    "x_vals_train = data[train_indices]\n",
    "x_vals_test = data[test_indices]\n",
    "y_vals_train = label[train_indices]\n",
    "y_vals_test = label[test_indices]\n",
    "\n",
    "x_vals = np.array(x_vals_train)\n",
    "y_vals1 =np.array([1 if y == 0 else -1 for y in y_vals_train])\n",
    "y_vals2 =np.array([1 if y == 1 else -1 for y in y_vals_train])\n",
    "y_vals3 =np.array([1 if y == 2 else -1 for y in y_vals_train])\n",
    "\n",
    "class1_x = [x[0] for i,x in enumerate(x_vals) if y_vals_train==0]\n",
    "\n",
    "y_vals = np.array([y_vals1, y_vals2, y_vals3])\n",
    "\n",
    "batch_size = 100\n",
    "x_data = tf.placeholder(shape=[None, 5], dtype=tf.float32)\n",
    "y_target = tf.placeholder(shape=[None, 1], dtype=tf.float32)\n",
    "w = tf.Variable(tf.random_normal(shape=[5,1]))\n",
    "b = tf.Variable(tf.random_normal(shape=[1,1]))\n",
    "\n",
    "#loss function\n",
    "model_output = tf.matmul(x_data,W) + b\n",
    "l2_norm = tf.reduce_sum(tf.square(W))\n",
    "\n",
    "alpha = tf.constant([0.1])\n",
    "\n",
    "classification_term = tf.reduce_mean(tf.maximum(0.,1. - model_output*y_target))\n",
    "loss = classification_term + alpha * l2_norm\n",
    "\n",
    "#output\n",
    "pri"
   ]
  },
  {
   "cell_type": "code",
   "execution_count": 3,
   "metadata": {},
   "outputs": [
    {
     "ename": "AttributeError",
     "evalue": "module 'tensorflow' has no attribute 'variable'",
     "output_type": "error",
     "traceback": [
      "\u001b[0;31m---------------------------------------------------------------------------\u001b[0m",
      "\u001b[0;31mAttributeError\u001b[0m                            Traceback (most recent call last)",
      "\u001b[0;32m<ipython-input-3-0d00209c324c>\u001b[0m in \u001b[0;36m<module>\u001b[0;34m()\u001b[0m\n\u001b[1;32m     30\u001b[0m \u001b[0;34m\u001b[0m\u001b[0m\n\u001b[1;32m     31\u001b[0m \u001b[0;34m\u001b[0m\u001b[0m\n\u001b[0;32m---> 32\u001b[0;31m \u001b[0mraise_threshold\u001b[0m \u001b[0;34m=\u001b[0m \u001b[0mtf\u001b[0m\u001b[0;34m.\u001b[0m\u001b[0mvariable\u001b[0m\u001b[0;34m(\u001b[0m\u001b[0;34m)\u001b[0m\u001b[0;34m\u001b[0m\u001b[0m\n\u001b[0m",
      "\u001b[0;31mAttributeError\u001b[0m: module 'tensorflow' has no attribute 'variable'"
     ]
    }
   ],
   "source": [
    "from sklearn import datasets\n",
    "import tensorflow as tf\n",
    "import numpy as np\n",
    "import sqlite3 as lite\n",
    "\n",
    "# np.random.seed(1)\n",
    "# tf.set_random_seed(1)\n",
    "\n",
    "sess = tf.Session()\n",
    "\n",
    "#data\n",
    "con = lite.connect('game_information.db')\n",
    "\n",
    "with con:\n",
    "    cur = con.cursor()\n",
    "    \n",
    "    cur.execute('SELECT action FROM record_rationalplayer_rp_more_detail')\n",
    "    label_database = cur.fetchall()\n",
    "    \n",
    "    cur.execute('SELECT win_rate FROM record_rationalplayer_rp_more_detail')\n",
    "    data = cur.fetchall()\n",
    "\n",
    "label = []\n",
    "for item in label_database:\n",
    "    label.append(item[0])\n",
    "    \n",
    "#divide in train set and test set\n",
    "train_indices = np.random.choice(len(data),round(len(data)*0.8))\n",
    "test_indices = np.array(list(set(range(len(data))) - set(train_indices)))\n",
    "\n",
    "\n",
    "\n",
    "fold_threshold = tf.Variable(tf.zeros[1])\n",
    "raise_threshold = tf.Variable(tf.zeros[1])\n",
    "\n",
    "y_ = tf.placeholder(\"float\", [None, 1])\n",
    "\n",
    "loss = \n",
    "\n"
   ]
  },
  {
   "cell_type": "code",
   "execution_count": 16,
   "metadata": {},
   "outputs": [
    {
     "name": "stdout",
     "output_type": "stream",
     "text": [
      "aa\n",
      "bb\n",
      "cc\n"
     ]
    },
    {
     "data": {
      "text/plain": [
       "[None, None, None]"
      ]
     },
     "execution_count": 16,
     "metadata": {},
     "output_type": "execute_result"
    }
   ],
   "source": [
    "a = ['aa', 'bb', 'cc']\n",
    "b = [1, 2, 3]\n",
    "c = dict(zip(a, b))\n",
    "\n",
    "d = [print(f) for d, f in enumerate(c)]\n",
    "d"
   ]
  },
  {
   "cell_type": "code",
   "execution_count": null,
   "metadata": {},
   "outputs": [],
   "source": []
  }
 ],
 "metadata": {
  "kernelspec": {
   "display_name": "Python 3",
   "language": "python",
   "name": "python3"
  },
  "language_info": {
   "codemirror_mode": {
    "name": "ipython",
    "version": 3
   },
   "file_extension": ".py",
   "mimetype": "text/x-python",
   "name": "python",
   "nbconvert_exporter": "python",
   "pygments_lexer": "ipython3",
   "version": "3.6.5"
  },
  "notify_time": "5"
 },
 "nbformat": 4,
 "nbformat_minor": 2
}
