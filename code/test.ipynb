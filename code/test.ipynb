{
 "cells": [
  {
   "cell_type": "code",
   "execution_count": 2,
   "metadata": {},
   "outputs": [
    {
     "name": "stdout",
     "output_type": "stream",
     "text": [
      "21.3 s ± 0 ns per loop (mean ± std. dev. of 1 run, 1 loop each)\n"
     ]
    }
   ],
   "source": [
    "from pypokerengine.api.game import setup_config, start_poker\n",
    "from Model_Player import ModelPlayer\n",
    "\n",
    "config = setup_config(max_round=10, initial_stack=1000, small_blind_amount=1)\n",
    "# config.register_player(name=\"p1\", algorithm=ModelPlayer(\"model\"))\n",
    "config.register_player(name=\"p1\", algorithm=RationalPlayer())\n",
    "config.register_player(name=\"p2\", algorithm=RationalPlayer())\n",
    "%timeit -r1 game_result = start_poker(config, verbose=0)"
   ]
  },
  {
   "cell_type": "code",
   "execution_count": null,
   "metadata": {},
   "outputs": [],
   "source": [
    "import sqlite3 as lite\n",
    "import sys\n",
    " \n",
    "con = lite.connect('bcd.db')\n",
    "\n",
    "with con:\n",
    "    \n",
    "    cur = con.cursor()\n",
    "    cur.execute(\"CREATE TABLE bcd(Id INT, Name TEXT)\")\n",
    "    cur.execute(\"INSERT INTO bcd VALUES(1,'Michelle')\")\n",
    "    cur.execute(\"INSERT INTO bcd VALUES(2,'Sonya')\")"
   ]
  },
  {
   "cell_type": "code",
   "execution_count": 1,
   "metadata": {},
   "outputs": [],
   "source": [
    "from pypokerengine.players import BasePokerPlayer\n",
    "from pypokerengine.utils.card_utils import gen_cards, estimate_hole_card_win_rate\n",
    "from utils import get_win_rate\n",
    "\n",
    "class RationalPlayer(BasePokerPlayer):\n",
    "\n",
    "\n",
    "    def declare_action(self, valid_actions, hole_card, round_state):\n",
    "        community_card = round_state['community_card']\n",
    "        call_amount = valid_actions[1]['amount']\n",
    "        pot = round_state['pot']['main']['amount']\n",
    "        win_rate = get_win_rate(hole_card, community_card)\n",
    "        ev = self.ev_calculation(win_rate, pot, call_amount)\n",
    "\n",
    "        if ev.index(max(ev)) == 0:\n",
    "            return valid_actions[0]['action'], valid_actions[0]['amount']\n",
    "\n",
    "        elif ev.index(max(ev)) == 1:\n",
    "            return valid_actions[1]['action'], valid_actions[1]['amount']\n",
    "\n",
    "        else:\n",
    "            return valid_actions[2]['action'], 2 * self.small_blind_amount\n",
    "                        \n",
    "\n",
    "\n",
    "    def receive_game_start_message(self, game_info):\n",
    "        self.nb_player = game_info['player_num']\n",
    "        self.uuid = game_info['seats'][0]\n",
    "        self.small_blind_amount = game_info['rule']['small_blind_amount']\n",
    "\n",
    "    def receive_round_start_message(self, round_count, hole_card, seats):\n",
    "        self.self_bet = 0\n",
    "\n",
    "    def receive_street_start_message(self, street, round_state):\n",
    "        pass\n",
    "\n",
    "    def receive_game_update_message(self, action, round_state):\n",
    "        if action['player_uuid'] == self.uuid:\n",
    "            self.self_bet = self.self_bet + action['amount']\n",
    "\n",
    "    def receive_round_result_message(self, winners, hand_info, round_state):\n",
    "        pass\n",
    "\n",
    "    def ev_calculation(self, win_rate, pot, call_amount):\n",
    "        ev = [0 for i in range(3)]\n",
    "        ev[0] = -self.self_bet\n",
    "        ev[1] = win_rate * (pot - self.self_bet) - (1 - win_rate) * (self.self_bet + call_amount)\n",
    "        ev[2] = win_rate * (pot - self.self_bet + 2 * self.small_blind_amount) - (1 - win_rate) * (self.self_bet + 2 * self.small_blind_amount + call_amount)\n",
    "        return ev"
   ]
  },
  {
   "cell_type": "code",
   "execution_count": null,
   "metadata": {},
   "outputs": [],
   "source": [
    "from numba import cuda\n",
    "import numpy as np\n",
    "\n",
    "def foo(aryA, aryB):\n",
    "    "
   ]
  }
 ],
 "metadata": {
  "kernelspec": {
   "display_name": "Python 3",
   "language": "python",
   "name": "python3"
  },
  "language_info": {
   "codemirror_mode": {
    "name": "ipython",
    "version": 3
   },
   "file_extension": ".py",
   "mimetype": "text/x-python",
   "name": "python",
   "nbconvert_exporter": "python",
   "pygments_lexer": "ipython3",
   "version": "3.6.4"
  }
 },
 "nbformat": 4,
 "nbformat_minor": 2
}
